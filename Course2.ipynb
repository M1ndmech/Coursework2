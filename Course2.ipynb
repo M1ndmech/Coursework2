{
 "cells": [
  {
   "cell_type": "markdown",
   "id": "7dadb2eb",
   "metadata": {},
   "source": [
    "# Итоговая работа. Часть 2."
   ]
  },
  {
   "cell_type": "markdown",
   "id": "27662066",
   "metadata": {},
   "source": [
    "Стат значимо ли отличается ARPPU в двух группах?\n",
    "Какие рекомендации дадите менеджеру?"
   ]
  },
  {
   "cell_type": "code",
   "execution_count": 20,
   "id": "89334f3a",
   "metadata": {},
   "outputs": [],
   "source": [
    "from scipy.stats import ttest_1samp\n",
    "from scipy.stats import ttest_ind\n",
    "from scipy.stats import kstest\n",
    "from scipy.stats import mannwhitneyu\n",
    "from scipy.stats import norm\n",
    "\n",
    "import pandas as pd\n",
    "import numpy as np\n",
    "import seaborn as sns\n",
    "\n",
    "from tqdm import tqdm\n",
    "import matplotlib.pyplot as plt\n",
    "\n",
    "import warnings\n",
    "warnings.simplefilter(\"ignore\")"
   ]
  },
  {
   "cell_type": "code",
   "execution_count": 21,
   "id": "9745c4c3",
   "metadata": {},
   "outputs": [
    {
     "data": {
      "text/html": [
       "<div>\n",
       "<style scoped>\n",
       "    .dataframe tbody tr th:only-of-type {\n",
       "        vertical-align: middle;\n",
       "    }\n",
       "\n",
       "    .dataframe tbody tr th {\n",
       "        vertical-align: top;\n",
       "    }\n",
       "\n",
       "    .dataframe thead th {\n",
       "        text-align: right;\n",
       "    }\n",
       "</style>\n",
       "<table border=\"1\" class=\"dataframe\">\n",
       "  <thead>\n",
       "    <tr style=\"text-align: right;\">\n",
       "      <th></th>\n",
       "      <th>revenue</th>\n",
       "      <th>num_purchases</th>\n",
       "      <th>purchase</th>\n",
       "      <th>ab_group</th>\n",
       "      <th>av_site visit</th>\n",
       "    </tr>\n",
       "  </thead>\n",
       "  <tbody>\n",
       "    <tr>\n",
       "      <th>0</th>\n",
       "      <td>0.00</td>\n",
       "      <td>0</td>\n",
       "      <td>0</td>\n",
       "      <td>A</td>\n",
       "      <td>9.04</td>\n",
       "    </tr>\n",
       "    <tr>\n",
       "      <th>1</th>\n",
       "      <td>0.00</td>\n",
       "      <td>0</td>\n",
       "      <td>0</td>\n",
       "      <td>A</td>\n",
       "      <td>4.81</td>\n",
       "    </tr>\n",
       "    <tr>\n",
       "      <th>2</th>\n",
       "      <td>0.00</td>\n",
       "      <td>0</td>\n",
       "      <td>0</td>\n",
       "      <td>A</td>\n",
       "      <td>7.34</td>\n",
       "    </tr>\n",
       "    <tr>\n",
       "      <th>3</th>\n",
       "      <td>0.00</td>\n",
       "      <td>0</td>\n",
       "      <td>0</td>\n",
       "      <td>A</td>\n",
       "      <td>7.74</td>\n",
       "    </tr>\n",
       "    <tr>\n",
       "      <th>4</th>\n",
       "      <td>0.00</td>\n",
       "      <td>0</td>\n",
       "      <td>0</td>\n",
       "      <td>A</td>\n",
       "      <td>10.51</td>\n",
       "    </tr>\n",
       "    <tr>\n",
       "      <th>5</th>\n",
       "      <td>0.00</td>\n",
       "      <td>0</td>\n",
       "      <td>0</td>\n",
       "      <td>A</td>\n",
       "      <td>9.58</td>\n",
       "    </tr>\n",
       "    <tr>\n",
       "      <th>6</th>\n",
       "      <td>0.00</td>\n",
       "      <td>0</td>\n",
       "      <td>0</td>\n",
       "      <td>A</td>\n",
       "      <td>6.16</td>\n",
       "    </tr>\n",
       "    <tr>\n",
       "      <th>7</th>\n",
       "      <td>0.00</td>\n",
       "      <td>0</td>\n",
       "      <td>0</td>\n",
       "      <td>A</td>\n",
       "      <td>11.91</td>\n",
       "    </tr>\n",
       "    <tr>\n",
       "      <th>8</th>\n",
       "      <td>0.00</td>\n",
       "      <td>0</td>\n",
       "      <td>0</td>\n",
       "      <td>A</td>\n",
       "      <td>6.54</td>\n",
       "    </tr>\n",
       "    <tr>\n",
       "      <th>9</th>\n",
       "      <td>0.00</td>\n",
       "      <td>0</td>\n",
       "      <td>0</td>\n",
       "      <td>A</td>\n",
       "      <td>7.99</td>\n",
       "    </tr>\n",
       "  </tbody>\n",
       "</table>\n",
       "</div>"
      ],
      "text/plain": [
       "   revenue  num_purchases  purchase ab_group  av_site visit\n",
       "0     0.00              0         0        A           9.04\n",
       "1     0.00              0         0        A           4.81\n",
       "2     0.00              0         0        A           7.34\n",
       "3     0.00              0         0        A           7.74\n",
       "4     0.00              0         0        A          10.51\n",
       "5     0.00              0         0        A           9.58\n",
       "6     0.00              0         0        A           6.16\n",
       "7     0.00              0         0        A          11.91\n",
       "8     0.00              0         0        A           6.54\n",
       "9     0.00              0         0        A           7.99"
      ]
     },
     "execution_count": 21,
     "metadata": {},
     "output_type": "execute_result"
    }
   ],
   "source": [
    "data = pd.read_csv('ab_stats.csv')\n",
    "data.head(10)"
   ]
  },
  {
   "cell_type": "code",
   "execution_count": 22,
   "id": "69d047c3",
   "metadata": {},
   "outputs": [
    {
     "name": "stdout",
     "output_type": "stream",
     "text": [
      "<class 'pandas.core.frame.DataFrame'>\n",
      "RangeIndex: 23652 entries, 0 to 23651\n",
      "Data columns (total 5 columns):\n",
      " #   Column         Non-Null Count  Dtype  \n",
      "---  ------         --------------  -----  \n",
      " 0   revenue        23652 non-null  float64\n",
      " 1   num_purchases  23652 non-null  int64  \n",
      " 2   purchase       23652 non-null  int64  \n",
      " 3   ab_group       23652 non-null  object \n",
      " 4   av_site visit  23652 non-null  float64\n",
      "dtypes: float64(2), int64(2), object(1)\n",
      "memory usage: 924.0+ KB\n"
     ]
    }
   ],
   "source": [
    "data.info()"
   ]
  },
  {
   "cell_type": "code",
   "execution_count": 23,
   "id": "9bc379a8",
   "metadata": {},
   "outputs": [
    {
     "data": {
      "text/plain": [
       "(23652, 5)"
      ]
     },
     "execution_count": 23,
     "metadata": {},
     "output_type": "execute_result"
    }
   ],
   "source": [
    "data.shape"
   ]
  },
  {
   "cell_type": "code",
   "execution_count": 24,
   "id": "d355b89f",
   "metadata": {},
   "outputs": [
    {
     "data": {
      "text/html": [
       "<div>\n",
       "<style scoped>\n",
       "    .dataframe tbody tr th:only-of-type {\n",
       "        vertical-align: middle;\n",
       "    }\n",
       "\n",
       "    .dataframe tbody tr th {\n",
       "        vertical-align: top;\n",
       "    }\n",
       "\n",
       "    .dataframe thead th {\n",
       "        text-align: right;\n",
       "    }\n",
       "</style>\n",
       "<table border=\"1\" class=\"dataframe\">\n",
       "  <thead>\n",
       "    <tr style=\"text-align: right;\">\n",
       "      <th></th>\n",
       "      <th>revenue</th>\n",
       "      <th>num_purchases</th>\n",
       "      <th>purchase</th>\n",
       "      <th>av_site visit</th>\n",
       "    </tr>\n",
       "  </thead>\n",
       "  <tbody>\n",
       "    <tr>\n",
       "      <th>count</th>\n",
       "      <td>23,652.00</td>\n",
       "      <td>23,652.00</td>\n",
       "      <td>23,652.00</td>\n",
       "      <td>23,652.00</td>\n",
       "    </tr>\n",
       "    <tr>\n",
       "      <th>mean</th>\n",
       "      <td>0.32</td>\n",
       "      <td>0.04</td>\n",
       "      <td>0.02</td>\n",
       "      <td>7.01</td>\n",
       "    </tr>\n",
       "    <tr>\n",
       "      <th>std</th>\n",
       "      <td>9.56</td>\n",
       "      <td>1.08</td>\n",
       "      <td>0.14</td>\n",
       "      <td>3.15</td>\n",
       "    </tr>\n",
       "    <tr>\n",
       "      <th>min</th>\n",
       "      <td>0.00</td>\n",
       "      <td>0.00</td>\n",
       "      <td>0.00</td>\n",
       "      <td>-12.07</td>\n",
       "    </tr>\n",
       "    <tr>\n",
       "      <th>25%</th>\n",
       "      <td>0.00</td>\n",
       "      <td>0.00</td>\n",
       "      <td>0.00</td>\n",
       "      <td>5.17</td>\n",
       "    </tr>\n",
       "    <tr>\n",
       "      <th>50%</th>\n",
       "      <td>0.00</td>\n",
       "      <td>0.00</td>\n",
       "      <td>0.00</td>\n",
       "      <td>7.01</td>\n",
       "    </tr>\n",
       "    <tr>\n",
       "      <th>75%</th>\n",
       "      <td>0.00</td>\n",
       "      <td>0.00</td>\n",
       "      <td>0.00</td>\n",
       "      <td>8.86</td>\n",
       "    </tr>\n",
       "    <tr>\n",
       "      <th>max</th>\n",
       "      <td>1,303.61</td>\n",
       "      <td>152.00</td>\n",
       "      <td>1.00</td>\n",
       "      <td>22.45</td>\n",
       "    </tr>\n",
       "  </tbody>\n",
       "</table>\n",
       "</div>"
      ],
      "text/plain": [
       "        revenue  num_purchases  purchase  av_site visit\n",
       "count 23,652.00      23,652.00 23,652.00      23,652.00\n",
       "mean       0.32           0.04      0.02           7.01\n",
       "std        9.56           1.08      0.14           3.15\n",
       "min        0.00           0.00      0.00         -12.07\n",
       "25%        0.00           0.00      0.00           5.17\n",
       "50%        0.00           0.00      0.00           7.01\n",
       "75%        0.00           0.00      0.00           8.86\n",
       "max    1,303.61         152.00      1.00          22.45"
      ]
     },
     "execution_count": 24,
     "metadata": {},
     "output_type": "execute_result"
    }
   ],
   "source": [
    "data.describe()"
   ]
  },
  {
   "cell_type": "code",
   "execution_count": 25,
   "id": "36ebc9aa",
   "metadata": {},
   "outputs": [
    {
     "data": {
      "text/plain": [
       "revenue          0\n",
       "num_purchases    0\n",
       "purchase         0\n",
       "ab_group         0\n",
       "av_site visit    0\n",
       "dtype: int64"
      ]
     },
     "execution_count": 25,
     "metadata": {},
     "output_type": "execute_result"
    }
   ],
   "source": [
    "data.isna().sum()"
   ]
  },
  {
   "cell_type": "code",
   "execution_count": 26,
   "id": "456e8f45",
   "metadata": {},
   "outputs": [
    {
     "data": {
      "text/html": [
       "<div>\n",
       "<style scoped>\n",
       "    .dataframe tbody tr th:only-of-type {\n",
       "        vertical-align: middle;\n",
       "    }\n",
       "\n",
       "    .dataframe tbody tr th {\n",
       "        vertical-align: top;\n",
       "    }\n",
       "\n",
       "    .dataframe thead th {\n",
       "        text-align: right;\n",
       "    }\n",
       "</style>\n",
       "<table border=\"1\" class=\"dataframe\">\n",
       "  <thead>\n",
       "    <tr style=\"text-align: right;\">\n",
       "      <th></th>\n",
       "      <th>revenue</th>\n",
       "      <th>num_purchases</th>\n",
       "      <th>purchase</th>\n",
       "      <th>ab_group</th>\n",
       "      <th>av_site visit</th>\n",
       "    </tr>\n",
       "  </thead>\n",
       "  <tbody>\n",
       "    <tr>\n",
       "      <th>45</th>\n",
       "      <td>1.89</td>\n",
       "      <td>1</td>\n",
       "      <td>1</td>\n",
       "      <td>A</td>\n",
       "      <td>7.65</td>\n",
       "    </tr>\n",
       "    <tr>\n",
       "      <th>54</th>\n",
       "      <td>1.00</td>\n",
       "      <td>1</td>\n",
       "      <td>1</td>\n",
       "      <td>A</td>\n",
       "      <td>6.39</td>\n",
       "    </tr>\n",
       "    <tr>\n",
       "      <th>82</th>\n",
       "      <td>2.99</td>\n",
       "      <td>1</td>\n",
       "      <td>1</td>\n",
       "      <td>A</td>\n",
       "      <td>8.60</td>\n",
       "    </tr>\n",
       "    <tr>\n",
       "      <th>104</th>\n",
       "      <td>49.99</td>\n",
       "      <td>1</td>\n",
       "      <td>1</td>\n",
       "      <td>A</td>\n",
       "      <td>8.89</td>\n",
       "    </tr>\n",
       "    <tr>\n",
       "      <th>110</th>\n",
       "      <td>22.09</td>\n",
       "      <td>4</td>\n",
       "      <td>1</td>\n",
       "      <td>A</td>\n",
       "      <td>8.71</td>\n",
       "    </tr>\n",
       "    <tr>\n",
       "      <th>...</th>\n",
       "      <td>...</td>\n",
       "      <td>...</td>\n",
       "      <td>...</td>\n",
       "      <td>...</td>\n",
       "      <td>...</td>\n",
       "    </tr>\n",
       "    <tr>\n",
       "      <th>23426</th>\n",
       "      <td>2.49</td>\n",
       "      <td>1</td>\n",
       "      <td>1</td>\n",
       "      <td>B</td>\n",
       "      <td>9.02</td>\n",
       "    </tr>\n",
       "    <tr>\n",
       "      <th>23493</th>\n",
       "      <td>74.95</td>\n",
       "      <td>5</td>\n",
       "      <td>1</td>\n",
       "      <td>B</td>\n",
       "      <td>5.88</td>\n",
       "    </tr>\n",
       "    <tr>\n",
       "      <th>23495</th>\n",
       "      <td>3.67</td>\n",
       "      <td>1</td>\n",
       "      <td>1</td>\n",
       "      <td>B</td>\n",
       "      <td>7.45</td>\n",
       "    </tr>\n",
       "    <tr>\n",
       "      <th>23584</th>\n",
       "      <td>19.99</td>\n",
       "      <td>1</td>\n",
       "      <td>1</td>\n",
       "      <td>B</td>\n",
       "      <td>9.81</td>\n",
       "    </tr>\n",
       "    <tr>\n",
       "      <th>23616</th>\n",
       "      <td>2.45</td>\n",
       "      <td>1</td>\n",
       "      <td>1</td>\n",
       "      <td>B</td>\n",
       "      <td>11.91</td>\n",
       "    </tr>\n",
       "  </tbody>\n",
       "</table>\n",
       "<p>490 rows × 5 columns</p>\n",
       "</div>"
      ],
      "text/plain": [
       "       revenue  num_purchases  purchase ab_group  av_site visit\n",
       "45        1.89              1         1        A           7.65\n",
       "54        1.00              1         1        A           6.39\n",
       "82        2.99              1         1        A           8.60\n",
       "104      49.99              1         1        A           8.89\n",
       "110      22.09              4         1        A           8.71\n",
       "...        ...            ...       ...      ...            ...\n",
       "23426     2.49              1         1        B           9.02\n",
       "23493    74.95              5         1        B           5.88\n",
       "23495     3.67              1         1        B           7.45\n",
       "23584    19.99              1         1        B           9.81\n",
       "23616     2.45              1         1        B          11.91\n",
       "\n",
       "[490 rows x 5 columns]"
      ]
     },
     "execution_count": 26,
     "metadata": {},
     "output_type": "execute_result"
    }
   ],
   "source": [
    "new_data = data[data['revenue'] > 0]\n",
    "new_data"
   ]
  },
  {
   "cell_type": "code",
   "execution_count": 27,
   "id": "2bcc627a",
   "metadata": {
    "scrolled": true
   },
   "outputs": [
    {
     "data": {
      "text/html": [
       "<div>\n",
       "<style scoped>\n",
       "    .dataframe tbody tr th:only-of-type {\n",
       "        vertical-align: middle;\n",
       "    }\n",
       "\n",
       "    .dataframe tbody tr th {\n",
       "        vertical-align: top;\n",
       "    }\n",
       "\n",
       "    .dataframe thead th {\n",
       "        text-align: right;\n",
       "    }\n",
       "</style>\n",
       "<table border=\"1\" class=\"dataframe\">\n",
       "  <thead>\n",
       "    <tr style=\"text-align: right;\">\n",
       "      <th></th>\n",
       "      <th>revenue</th>\n",
       "      <th>num_purchases</th>\n",
       "      <th>purchase</th>\n",
       "      <th>av_site visit</th>\n",
       "    </tr>\n",
       "  </thead>\n",
       "  <tbody>\n",
       "    <tr>\n",
       "      <th>count</th>\n",
       "      <td>234.00</td>\n",
       "      <td>234.00</td>\n",
       "      <td>234.00</td>\n",
       "      <td>234.00</td>\n",
       "    </tr>\n",
       "    <tr>\n",
       "      <th>mean</th>\n",
       "      <td>12.36</td>\n",
       "      <td>1.84</td>\n",
       "      <td>1.00</td>\n",
       "      <td>6.84</td>\n",
       "    </tr>\n",
       "    <tr>\n",
       "      <th>std</th>\n",
       "      <td>19.01</td>\n",
       "      <td>2.35</td>\n",
       "      <td>0.00</td>\n",
       "      <td>3.97</td>\n",
       "    </tr>\n",
       "    <tr>\n",
       "      <th>min</th>\n",
       "      <td>0.26</td>\n",
       "      <td>1.00</td>\n",
       "      <td>1.00</td>\n",
       "      <td>-5.65</td>\n",
       "    </tr>\n",
       "    <tr>\n",
       "      <th>25%</th>\n",
       "      <td>2.32</td>\n",
       "      <td>1.00</td>\n",
       "      <td>1.00</td>\n",
       "      <td>4.01</td>\n",
       "    </tr>\n",
       "    <tr>\n",
       "      <th>50%</th>\n",
       "      <td>3.98</td>\n",
       "      <td>1.00</td>\n",
       "      <td>1.00</td>\n",
       "      <td>7.14</td>\n",
       "    </tr>\n",
       "    <tr>\n",
       "      <th>75%</th>\n",
       "      <td>12.27</td>\n",
       "      <td>2.00</td>\n",
       "      <td>1.00</td>\n",
       "      <td>9.78</td>\n",
       "    </tr>\n",
       "    <tr>\n",
       "      <th>max</th>\n",
       "      <td>113.83</td>\n",
       "      <td>25.00</td>\n",
       "      <td>1.00</td>\n",
       "      <td>16.96</td>\n",
       "    </tr>\n",
       "  </tbody>\n",
       "</table>\n",
       "</div>"
      ],
      "text/plain": [
       "       revenue  num_purchases  purchase  av_site visit\n",
       "count   234.00         234.00    234.00         234.00\n",
       "mean     12.36           1.84      1.00           6.84\n",
       "std      19.01           2.35      0.00           3.97\n",
       "min       0.26           1.00      1.00          -5.65\n",
       "25%       2.32           1.00      1.00           4.01\n",
       "50%       3.98           1.00      1.00           7.14\n",
       "75%      12.27           2.00      1.00           9.78\n",
       "max     113.83          25.00      1.00          16.96"
      ]
     },
     "execution_count": 27,
     "metadata": {},
     "output_type": "execute_result"
    }
   ],
   "source": [
    "new_data[data['ab_group']=='B'].describe()"
   ]
  },
  {
   "cell_type": "code",
   "execution_count": 37,
   "id": "7303e2a1",
   "metadata": {},
   "outputs": [
    {
     "data": {
      "text/plain": [
       "12.36211875641025"
      ]
     },
     "execution_count": 37,
     "metadata": {},
     "output_type": "execute_result"
    }
   ],
   "source": [
    "new_data[data['ab_group']=='B']['revenue'].sum()/new_data[data['ab_group']=='B']['revenue'].count()"
   ]
  },
  {
   "cell_type": "code",
   "execution_count": 28,
   "id": "c3d33348",
   "metadata": {
    "scrolled": true
   },
   "outputs": [
    {
     "data": {
      "text/html": [
       "<div>\n",
       "<style scoped>\n",
       "    .dataframe tbody tr th:only-of-type {\n",
       "        vertical-align: middle;\n",
       "    }\n",
       "\n",
       "    .dataframe tbody tr th {\n",
       "        vertical-align: top;\n",
       "    }\n",
       "\n",
       "    .dataframe thead th {\n",
       "        text-align: right;\n",
       "    }\n",
       "</style>\n",
       "<table border=\"1\" class=\"dataframe\">\n",
       "  <thead>\n",
       "    <tr style=\"text-align: right;\">\n",
       "      <th></th>\n",
       "      <th>revenue</th>\n",
       "      <th>num_purchases</th>\n",
       "      <th>purchase</th>\n",
       "      <th>av_site visit</th>\n",
       "    </tr>\n",
       "  </thead>\n",
       "  <tbody>\n",
       "    <tr>\n",
       "      <th>count</th>\n",
       "      <td>256.00</td>\n",
       "      <td>256.00</td>\n",
       "      <td>256.00</td>\n",
       "      <td>256.00</td>\n",
       "    </tr>\n",
       "    <tr>\n",
       "      <th>mean</th>\n",
       "      <td>18.70</td>\n",
       "      <td>2.34</td>\n",
       "      <td>1.00</td>\n",
       "      <td>6.75</td>\n",
       "    </tr>\n",
       "    <tr>\n",
       "      <th>std</th>\n",
       "      <td>87.53</td>\n",
       "      <td>9.72</td>\n",
       "      <td>0.00</td>\n",
       "      <td>2.04</td>\n",
       "    </tr>\n",
       "    <tr>\n",
       "      <th>min</th>\n",
       "      <td>0.26</td>\n",
       "      <td>1.00</td>\n",
       "      <td>1.00</td>\n",
       "      <td>1.00</td>\n",
       "    </tr>\n",
       "    <tr>\n",
       "      <th>25%</th>\n",
       "      <td>2.32</td>\n",
       "      <td>1.00</td>\n",
       "      <td>1.00</td>\n",
       "      <td>5.28</td>\n",
       "    </tr>\n",
       "    <tr>\n",
       "      <th>50%</th>\n",
       "      <td>4.28</td>\n",
       "      <td>1.00</td>\n",
       "      <td>1.00</td>\n",
       "      <td>6.87</td>\n",
       "    </tr>\n",
       "    <tr>\n",
       "      <th>75%</th>\n",
       "      <td>11.92</td>\n",
       "      <td>2.00</td>\n",
       "      <td>1.00</td>\n",
       "      <td>8.26</td>\n",
       "    </tr>\n",
       "    <tr>\n",
       "      <th>max</th>\n",
       "      <td>1,303.61</td>\n",
       "      <td>152.00</td>\n",
       "      <td>1.00</td>\n",
       "      <td>12.50</td>\n",
       "    </tr>\n",
       "  </tbody>\n",
       "</table>\n",
       "</div>"
      ],
      "text/plain": [
       "       revenue  num_purchases  purchase  av_site visit\n",
       "count   256.00         256.00    256.00         256.00\n",
       "mean     18.70           2.34      1.00           6.75\n",
       "std      87.53           9.72      0.00           2.04\n",
       "min       0.26           1.00      1.00           1.00\n",
       "25%       2.32           1.00      1.00           5.28\n",
       "50%       4.28           1.00      1.00           6.87\n",
       "75%      11.92           2.00      1.00           8.26\n",
       "max   1,303.61         152.00      1.00          12.50"
      ]
     },
     "execution_count": 28,
     "metadata": {},
     "output_type": "execute_result"
    }
   ],
   "source": [
    "new_data[data['ab_group']=='A'].describe()"
   ]
  },
  {
   "cell_type": "code",
   "execution_count": 41,
   "id": "cca3691a",
   "metadata": {},
   "outputs": [
    {
     "data": {
      "text/plain": [
       "18.698468640625"
      ]
     },
     "execution_count": 41,
     "metadata": {},
     "output_type": "execute_result"
    }
   ],
   "source": [
    "new_data[data['ab_group']=='A']['revenue'].sum()/new_data[data['ab_group']=='A']['revenue'].count()"
   ]
  },
  {
   "cell_type": "code",
   "execution_count": 29,
   "id": "280e750e",
   "metadata": {},
   "outputs": [
    {
     "data": {
      "image/png": "[encoded data removed]",
      "text/plain": [
       "<Figure size 1000x1000 with 1 Axes>"
      ]
     },
     "metadata": {},
     "output_type": "display_data"
    }
   ],
   "source": [
    "plt.figure(figsize=(10, 10))\n",
    "control_visit_all = new_data['revenue'][data['ab_group']=='A']\n",
    "test_visit_all = new_data['revenue'][data['ab_group']=='B']\n",
    "\n",
    "plt.hist(control_visit_all, color='r', bins=50)\n",
    "plt.hist(test_visit_all, bins=50)\n",
    "\n",
    "plt.show()"
   ]
  },
  {
   "cell_type": "code",
   "execution_count": 30,
   "id": "b2bcf554",
   "metadata": {},
   "outputs": [
    {
     "data": {
      "text/plain": [
       "Ttest_indResult(statistic=1.1295123189663723, pvalue=0.2596444677902523)"
      ]
     },
     "execution_count": 30,
     "metadata": {},
     "output_type": "execute_result"
    }
   ],
   "source": [
    "ttest_ind(control_visit_all, test_visit_all, equal_var = False)"
   ]
  },
  {
   "cell_type": "markdown",
   "id": "a7f7cc1e",
   "metadata": {},
   "source": [
    "pvalue > 0.05  \n",
    "Значимых изменений нет"
   ]
  },
  {
   "cell_type": "code",
   "execution_count": 31,
   "id": "686da748",
   "metadata": {},
   "outputs": [
    {
     "name": "stdout",
     "output_type": "stream",
     "text": [
      "KstestResult(statistic=0.8312038740127529, pvalue=5.535202851866459e-197, statistic_location=1.9727, statistic_sign=-1)\n",
      "KstestResult(statistic=0.8635160979681316, pvalue=1.877582850318663e-202, statistic_location=1.953625, statistic_sign=-1)\n"
     ]
    }
   ],
   "source": [
    "print(kstest(control_visit_all, 'norm'))\n",
    "print(kstest(test_visit_all, 'norm'))"
   ]
  },
  {
   "cell_type": "markdown",
   "id": "1150bf13",
   "metadata": {},
   "source": [
    "pvalue < 0.05  \n",
    "Отвергаем нулевую гипотезу - распределение данных не нормальное"
   ]
  },
  {
   "cell_type": "code",
   "execution_count": 32,
   "id": "8ba58ab3",
   "metadata": {},
   "outputs": [
    {
     "data": {
      "text/plain": [
       "MannwhitneyuResult(statistic=29729.5, pvalue=0.8871956616344514)"
      ]
     },
     "execution_count": 32,
     "metadata": {},
     "output_type": "execute_result"
    }
   ],
   "source": [
    "mannwhitneyu(control_visit_all, test_visit_all)"
   ]
  },
  {
   "cell_type": "markdown",
   "id": "4e579296",
   "metadata": {},
   "source": [
    "pvalue > 0.05  \n",
    "0 гипотеза не отвергается, статистически значимых изменений нет"
   ]
  },
  {
   "cell_type": "code",
   "execution_count": 33,
   "id": "2a13acd2",
   "metadata": {},
   "outputs": [],
   "source": [
    "def get_bootstrap(\n",
    "    data_column_1,\n",
    "    data_column_2,\n",
    "    boot_it = 1000,\n",
    "    statistic = np.mean,\n",
    "    bootstrap_conf_level = 0.95\n",
    "    ):\n",
    "    boot_len = max([len(data_column_1), len(data_column_2)])\n",
    "    boot_data = []\n",
    "    for i in tqdm(range(boot_it)):\n",
    "        samples_1 = data_column_1.sample(\n",
    "            boot_len, \n",
    "            replace = True\n",
    "            ).values\n",
    "        \n",
    "        samples_2 = data_column_2.sample(\n",
    "            boot_len,\n",
    "            replace = True\n",
    "            ).values\n",
    "\n",
    "        boot_data.append(statistic(samples_1)-statistic(samples_2))\n",
    "    pd_boot_data = pd.DataFrame(boot_data)\n",
    "\n",
    "        \n",
    "    left_quant = (1 - bootstrap_conf_level)/2\n",
    "    right_quant = 1 - (1 - bootstrap_conf_level) / 2\n",
    "    quants = pd_boot_data.quantile([left_quant, right_quant])\n",
    "        \n",
    "    p_1 = norm.cdf(\n",
    "        x = 0, \n",
    "        loc = np.mean(boot_data), \n",
    "        scale = np.std(boot_data)\n",
    "    )\n",
    "    p_2 = norm.cdf(\n",
    "        x = 0, \n",
    "        loc = -np.mean(boot_data), \n",
    "        scale = np.std(boot_data)\n",
    "    )\n",
    "    p_value = min(p_1, p_2) * 2\n",
    "        \n",
    "    _, _, bars = plt.hist(pd_boot_data[0], bins = 50)\n",
    "    for bar in bars:\n",
    "        if abs(bar.get_x()) <= quants.iloc[0][0] or abs(bar.get_x()) >= quants.iloc[1][0]:\n",
    "            bar.set_facecolor('red')\n",
    "        else: \n",
    "            bar.set_facecolor('grey')\n",
    "            bar.set_edgecolor('black')\n",
    "    \n",
    "    plt.style.use('ggplot')\n",
    "    plt.vlines(quants,ymin=0,ymax=50,linestyle='--')\n",
    "    plt.xlabel('Значение метрики')\n",
    "    plt.ylabel('Частота')\n",
    "    plt.title(\"Гистограмма распределения\")\n",
    "    plt.show()\n",
    "       \n",
    "    return {\"quants\": quants, \n",
    "            \"p_value\": p_value}\n"
   ]
  },
  {
   "cell_type": "code",
   "execution_count": 34,
   "id": "55dcdbfc",
   "metadata": {},
   "outputs": [
    {
     "name": "stderr",
     "output_type": "stream",
     "text": [
      "100%|██████████████████████████████████████████████████████████████████████████| 10000/10000 [00:04<00:00, 2458.71it/s]\n"
     ]
    },
    {
     "data": {
      "image/png": "[encoded data removed]",
      "text/plain": [
       "<Figure size 800x550 with 1 Axes>"
      ]
     },
     "metadata": {},
     "output_type": "display_data"
    },
    {
     "name": "stdout",
     "output_type": "stream",
     "text": [
      "p_value 0.2018742713975068\n"
     ]
    }
   ],
   "source": [
    "plt.style.use('seaborn')\n",
    "pd.options.display.float_format = '{:,.2f}'.format\n",
    "\n",
    "booted_data = get_bootstrap(data['revenue'][data['ab_group']=='A'],\n",
    "                            data['revenue'][data['ab_group']=='B'],\n",
    "                            boot_it = 10000)\n",
    "\n",
    "print('p_value', booted_data['p_value'])"
   ]
  },
  {
   "cell_type": "markdown",
   "id": "82b25c3b",
   "metadata": {},
   "source": [
    "p_value > 0.05  \n",
    "Нет статистической значимости  \n",
    "\n",
    "Ответ: Нулевая гипотеза не отвергается, оставляем исходный вариант.\n",
    "\n",
    "Рекомендации менеджеру: В тестовой группе нет статистически значимых отличий по удержанию, при этом ARRPU заметно ниже. Попробовать альтернативные варианты экспериментов - исходный вариант лучше."
   ]
  }
 ],
 "metadata": {
  "kernelspec": {
   "display_name": "Python 3 (ipykernel)",
   "language": "python",
   "name": "python3"
  },
  "language_info": {
   "codemirror_mode": {
    "name": "ipython",
    "version": 3
   },
   "file_extension": ".py",
   "mimetype": "text/x-python",
   "name": "python",
   "nbconvert_exporter": "python",
   "pygments_lexer": "ipython3",
   "version": "3.11.1"
  },
  "vscode": {
   "interpreter": {
    "hash": "54c843019337f05979ffbb2eaecfdb77b7df86622fb79d5871bba6457374c4df"
   }
  }
 },
 "nbformat": 4,
 "nbformat_minor": 5
}
